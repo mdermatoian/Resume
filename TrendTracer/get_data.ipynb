{
 "cells": [
  {
   "cell_type": "code",
   "execution_count": 5,
   "id": "939b22bd",
   "metadata": {},
   "outputs": [],
   "source": [
    "import yfinance as yf\n",
    "import os"
   ]
  },
  {
   "cell_type": "code",
   "execution_count": 21,
   "id": "1f09d8dd",
   "metadata": {},
   "outputs": [],
   "source": [
    "def export_data(ticker, per, data_type):\n",
    "    data = yf.Ticker(ticker)\n",
    "    hist = data.history(period=per)\n",
    "    output = hist[data_type]\n",
    "    if output.empty:\n",
    "        return\n",
    "    output.to_csv(f\"data/{ticker}_{per}_{data_type}.csv\")"
   ]
  },
  {
   "cell_type": "code",
   "execution_count": null,
   "id": "e763fb0a",
   "metadata": {},
   "outputs": [],
   "source": [
    "export_data(\"MSFT\", \"1y\", \"Close\")"
   ]
  }
 ],
 "metadata": {
  "kernelspec": {
   "display_name": "venv",
   "language": "python",
   "name": "python3"
  },
  "language_info": {
   "codemirror_mode": {
    "name": "ipython",
    "version": 3
   },
   "file_extension": ".py",
   "mimetype": "text/x-python",
   "name": "python",
   "nbconvert_exporter": "python",
   "pygments_lexer": "ipython3",
   "version": "3.13.6"
  }
 },
 "nbformat": 4,
 "nbformat_minor": 5
}
